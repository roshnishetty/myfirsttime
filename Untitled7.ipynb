{
 "cells": [
  {
   "cell_type": "code",
   "execution_count": 4,
   "metadata": {},
   "outputs": [
    {
     "name": "stdout",
     "output_type": "stream",
     "text": [
      "<built-in method start of re.Match object at 0x000001EA6BE52780> ... 2 ... ab\n",
      "<built-in method start of re.Match object at 0x000001EA6BE52648> ... 5 ... ab\n",
      "<built-in method start of re.Match object at 0x000001EA6BE52780> ... 7 ... ab\n",
      "the number of occurances: 3\n"
     ]
    }
   ],
   "source": [
    "import re\n",
    "count=0\n",
    "pattern=re.compile(\"ab\")\n",
    "matcher=pattern.finditer(\"abaababa\")\n",
    "for match in matcher:\n",
    "    count+=1\n",
    "    print(match.start,\"...\",match.end(),\"...\",match.group())\n",
    "print(\"the number of occurances:\",count)"
   ]
  },
  {
   "cell_type": "code",
   "execution_count": 16,
   "metadata": {},
   "outputs": [
    {
     "name": "stdout",
     "output_type": "stream",
     "text": [
      "<built-in method start of re.Match object at 0x000001EA6BE52BF8> ... 0 ... \n",
      "<built-in method start of re.Match object at 0x000001EA6BE52780> ... 1 ... \n",
      "<built-in method start of re.Match object at 0x000001EA6BE52BF8> ... 2 ... \n",
      "<built-in method start of re.Match object at 0x000001EA6BE52780> ... 3 ... \n",
      "<built-in method start of re.Match object at 0x000001EA6BE52BF8> ... 4 ... \n",
      "<built-in method start of re.Match object at 0x000001EA6BE52780> ... 5 ... \n",
      "<built-in method start of re.Match object at 0x000001EA6BE52BF8> ... 6 ... \n",
      "<built-in method start of re.Match object at 0x000001EA6BE52AC0> ... 7 ... \n"
     ]
    }
   ],
   "source": [
    "import re\n",
    "matcher=re.finditer(\"\",\"a7b@k9z\")\n",
    "for match in matcher:\n",
    "    print(match.start,\"...\",match.end(),\"...\",match.group())"
   ]
  },
  {
   "cell_type": "code",
   "execution_count": 19,
   "metadata": {},
   "outputs": [],
   "source": [
    "import re\n",
    "matcher=re.finditer(\" [a-z]\",\"a7b@k9z\")\n",
    "for match in matcher:\n",
    "    print(match.start,\"...\",match.end(),\"...\",match.group())"
   ]
  },
  {
   "cell_type": "code",
   "execution_count": 21,
   "metadata": {},
   "outputs": [],
   "source": [
    "matcher=re.finditer(\" [0-9]\",\"a7b@k9z\")\n",
    "for match in matcher:\n",
    "    print(match.start(),\"...\",match.group())"
   ]
  },
  {
   "cell_type": "code",
   "execution_count": null,
   "metadata": {},
   "outputs": [],
   "source": []
  }
 ],
 "metadata": {
  "kernelspec": {
   "display_name": "Python 3",
   "language": "python",
   "name": "python3"
  },
  "language_info": {
   "codemirror_mode": {
    "name": "ipython",
    "version": 3
   },
   "file_extension": ".py",
   "mimetype": "text/x-python",
   "name": "python",
   "nbconvert_exporter": "python",
   "pygments_lexer": "ipython3",
   "version": "3.7.1"
  }
 },
 "nbformat": 4,
 "nbformat_minor": 2
}
