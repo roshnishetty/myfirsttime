{
 "cells": [
  {
   "cell_type": "code",
   "execution_count": 1,
   "metadata": {},
   "outputs": [
    {
     "name": "stdout",
     "output_type": "stream",
     "text": [
      "<built-in method start of re.Match object at 0x000001B28B4042A0> ... 2 ... ab\n",
      "<built-in method start of re.Match object at 0x000001B28B4041D0> ... 5 ... ab\n",
      "<built-in method start of re.Match object at 0x000001B28B4042A0> ... 7 ... ab\n",
      "the number of occurances: 3\n"
     ]
    }
   ],
   "source": [
    "import re\n",
    "count=0\n",
    "pattern=re.compile(\"ab\")\n",
    "matcher=pattern.finditer(\"abaababa\")\n",
    "for match in matcher:\n",
    "    count+=1\n",
    "    print(match.start,\"...\",match.end(),\"...\",match.group())\n",
    "print(\"the number of occurances:\",count)"
   ]
  },
  {
   "cell_type": "code",
   "execution_count": 10,
   "metadata": {},
   "outputs": [
    {
     "name": "stdout",
     "output_type": "stream",
     "text": [
      "<built-in method start of re.Match object at 0x000001B28B404030> ... 0 ... \n",
      "<built-in method start of re.Match object at 0x000001B28B4042A0> ... 1 ... \n",
      "<built-in method start of re.Match object at 0x000001B28B404030> ... 2 ... \n",
      "<built-in method start of re.Match object at 0x000001B28B4042A0> ... 3 ... \n",
      "<built-in method start of re.Match object at 0x000001B28B404030> ... 4 ... \n",
      "<built-in method start of re.Match object at 0x000001B28B4042A0> ... 5 ... \n",
      "<built-in method start of re.Match object at 0x000001B28B404030> ... 6 ... \n",
      "<built-in method start of re.Match object at 0x000001B28B4042A0> ... 7 ... \n"
     ]
    }
   ],
   "source": [
    "matcher=re.finditer(\"\",\"a7b@k9z\")\n",
    "for match in matcher:\n",
    "    print(match.start,\"...\",match.end(),\"...\",match.group())"
   ]
  },
  {
   "cell_type": "code",
   "execution_count": 23,
   "metadata": {},
   "outputs": [],
   "source": [
    "import re\n",
    "matcher=re.finditer(\" [^abc]\",\"a7b@k9z\")\n",
    "for match in matcher:\n",
    "    print(match.start(),\"...\",match.group())"
   ]
  },
  {
   "cell_type": "code",
   "execution_count": 13,
   "metadata": {},
   "outputs": [
    {
     "name": "stdout",
     "output_type": "stream",
     "text": [
      "1 ... 7\n",
      "5 ... 9\n"
     ]
    }
   ],
   "source": [
    "matcher=re.finditer(\"[0-9]\",\"a7b@k9z\")\n",
    "for match in matcher:\n",
    "    print(match.start(),\"...\",match.group())"
   ]
  },
  {
   "cell_type": "code",
   "execution_count": 24,
   "metadata": {},
   "outputs": [],
   "source": [
    "matcher=re.finditer(\" [a-z]\",\"a7b@k9z\")\n",
    "for match in matcher:\n",
    "    print(match.start(),\"...\",match.group())"
   ]
  },
  {
   "cell_type": "code",
   "execution_count": 16,
   "metadata": {},
   "outputs": [],
   "source": [
    "matcher=re.finditer(\" [a-zA-Z0-9]\",\"a7b@k9z\")\n",
    "for match in matcher:\n",
    "    print(match.start(),\"...\",match.group())"
   ]
  },
  {
   "cell_type": "code",
   "execution_count": 18,
   "metadata": {},
   "outputs": [
    {
     "name": "stdout",
     "output_type": "stream",
     "text": [
      "3 ...  \n"
     ]
    }
   ],
   "source": [
    "matcher=re.finditer(\"\\s\",\"a7b @k9z\")\n",
    "for match in matcher:\n",
    "    print(match.start(),\"...\",match.group())"
   ]
  },
  {
   "cell_type": "code",
   "execution_count": 19,
   "metadata": {},
   "outputs": [
    {
     "name": "stdout",
     "output_type": "stream",
     "text": [
      "1 ... 7\n",
      "6 ... 9\n"
     ]
    }
   ],
   "source": [
    "matcher=re.finditer(\"\\d\",\"a7b @k9z\")\n",
    "for match in matcher:\n",
    "    print(match.start(),\"...\",match.group())"
   ]
  },
  {
   "cell_type": "code",
   "execution_count": 20,
   "metadata": {},
   "outputs": [
    {
     "name": "stdout",
     "output_type": "stream",
     "text": [
      "0 ... a\n",
      "2 ... b\n",
      "3 ...  \n",
      "4 ... @\n",
      "5 ... k\n",
      "7 ... z\n"
     ]
    }
   ],
   "source": [
    "matcher=re.finditer(\"\\D\",\"a7b @k9z\")\n",
    "for match in matcher:\n",
    "    print(match.start(),\"...\",match.group())"
   ]
  },
  {
   "cell_type": "code",
   "execution_count": 21,
   "metadata": {},
   "outputs": [
    {
     "name": "stdout",
     "output_type": "stream",
     "text": [
      "0 ... a\n",
      "1 ... 7\n",
      "2 ... b\n",
      "5 ... k\n",
      "6 ... 9\n",
      "7 ... z\n"
     ]
    }
   ],
   "source": [
    "matcher=re.finditer(\"\\w\",\"a7b @k9z\")\n",
    "for match in matcher:\n",
    "    print(match.start(),\"...\",match.group())"
   ]
  },
  {
   "cell_type": "code",
   "execution_count": 22,
   "metadata": {},
   "outputs": [
    {
     "name": "stdout",
     "output_type": "stream",
     "text": [
      "3 ...  \n",
      "4 ... @\n"
     ]
    }
   ],
   "source": [
    "matcher=re.finditer(\"\\W\",\"a7b @k9z\")\n",
    "for match in matcher:\n",
    "    print(match.start(),\"...\",match.group())"
   ]
  },
  {
   "cell_type": "code",
   "execution_count": 25,
   "metadata": {},
   "outputs": [
    {
     "name": "stdout",
     "output_type": "stream",
     "text": [
      "0 ... a\n",
      "2 ... a\n",
      "3 ... a\n",
      "5 ... a\n",
      "6 ... a\n"
     ]
    }
   ],
   "source": [
    "matcher=re.finditer(\"a\",\"abaabaab\")\n",
    "for match in matcher:\n",
    "    print(match.start(),\"...\",match.group())"
   ]
  },
  {
   "cell_type": "code",
   "execution_count": 26,
   "metadata": {},
   "outputs": [
    {
     "name": "stdout",
     "output_type": "stream",
     "text": [
      "0 ... a\n",
      "2 ... aa\n",
      "5 ... aa\n"
     ]
    }
   ],
   "source": [
    "matcher=re.finditer(\"a+\",\"abaabaab\")\n",
    "for match in matcher:\n",
    "    print(match.start(),\"...\",match.group())"
   ]
  },
  {
   "cell_type": "code",
   "execution_count": 27,
   "metadata": {},
   "outputs": [
    {
     "name": "stdout",
     "output_type": "stream",
     "text": [
      "0 ... a\n",
      "1 ... \n",
      "2 ... a\n",
      "3 ... a\n",
      "4 ... \n",
      "5 ... a\n",
      "6 ... a\n",
      "7 ... \n",
      "8 ... \n"
     ]
    }
   ],
   "source": [
    "matcher=re.finditer(\"a?\",\"abaabaab\")\n",
    "for match in matcher:\n",
    "    print(match.start(),\"...\",match.group())"
   ]
  },
  {
   "cell_type": "code",
   "execution_count": 29,
   "metadata": {},
   "outputs": [
    {
     "name": "stdout",
     "output_type": "stream",
     "text": [
      "5 ... aaa\n"
     ]
    }
   ],
   "source": [
    "matcher=re.finditer(\"a{3}\",\"abaabaaab\")\n",
    "for match in matcher:\n",
    "    print(match.start(),\"...\",match.group())"
   ]
  },
  {
   "cell_type": "code",
   "execution_count": 30,
   "metadata": {},
   "outputs": [
    {
     "name": "stdout",
     "output_type": "stream",
     "text": [
      "2 ... aa\n",
      "5 ... aaa\n"
     ]
    }
   ],
   "source": [
    "matcher=re.finditer(\"a{2,4}\",\"abaabaaab\")\n",
    "for match in matcher:\n",
    "    print(match.start(),\"...\",match.group())"
   ]
  },
  {
   "cell_type": "code",
   "execution_count": 33,
   "metadata": {},
   "outputs": [
    {
     "name": "stdout",
     "output_type": "stream",
     "text": [
      "Target String starts with Learn\n"
     ]
    }
   ],
   "source": [
    "s=\"Learning Python is very easy\"\n",
    "res=re.search(\"^Learn\",s)\n",
    "if res!=None:\n",
    "    print(\"Target String starts with Learn\")\n",
    "else:\n",
    "    print(\"Target String starts with Learn\")\n",
    "    "
   ]
  },
  {
   "cell_type": "code",
   "execution_count": 36,
   "metadata": {},
   "outputs": [
    {
     "name": "stdout",
     "output_type": "stream",
     "text": [
      "Target String ends with easy\n"
     ]
    }
   ],
   "source": [
    "s=\"Learning Python is very easy\"\n",
    "res=re.search(\"easy$\",s)\n",
    "if res!=None:\n",
    "    print(\"Target String ends with easy\")\n",
    "else:\n",
    "    print(\"Target String not ends with easy\")\n",
    "    "
   ]
  },
  {
   "cell_type": "code",
   "execution_count": 44,
   "metadata": {},
   "outputs": [
    {
     "name": "stdout",
     "output_type": "stream",
     "text": [
      "Target String ends with easy\n"
     ]
    }
   ],
   "source": [
    "s=\"Learning Python is very easy\"\n",
    "res=re.search(\"easy$\",s,re.IGNORECASE)\n",
    "if res!=None:\n",
    "    print(\"Target String ends with easy\")\n",
    "else:\n",
    "    print(\"Target String not ends with easy\")\n",
    "    "
   ]
  },
  {
   "cell_type": "code",
   "execution_count": 46,
   "metadata": {},
   "outputs": [
    {
     "name": "stdout",
     "output_type": "stream",
     "text": [
      "enter mobile number9916687665\n",
      "correct\n"
     ]
    }
   ],
   "source": [
    "import re\n",
    "inp=input(\"enter mobile number\")\n",
    "res=re.search(\"^[6789][0-9]{9}\",inp)\n",
    "if res!=None:\n",
    "    print(\"correct\")\n",
    "else:\n",
    "    print(\"wrong\")"
   ]
  },
  {
   "cell_type": "code",
   "execution_count": 49,
   "metadata": {},
   "outputs": [
    {
     "name": "stdout",
     "output_type": "stream",
     "text": [
      "Extracted all mobile numbers\n"
     ]
    }
   ],
   "source": [
    "f1=open(\"input.txt\",\"r\")\n",
    "f2=open(\"output.txt\",\"w\")\n",
    "for line in f1:\n",
    "    list=re.findall(\"[6-9]\\d{9}]\",line)\n",
    "    for n in list:\n",
    "        f2.write(n+\"\\n\")\n",
    "print(\"Extracted all mobile numbers\")\n",
    "f1.close()\n",
    "f2.close()\n"
   ]
  },
  {
   "cell_type": "code",
   "execution_count": null,
   "metadata": {},
   "outputs": [],
   "source": [
    "s=input(\"Enter vehicle registration number\")\n",
    "m=re.fullmatch(\"KA[0][0-6][A-Z]{2}\\d{4}\".s)\n",
    "if m!=None:\n",
    "    print(\"Its valid reg number\")\n",
    "else:\n",
    "    print(\"Not a valid number\")"
   ]
  },
  {
   "cell_type": "code",
   "execution_count": null,
   "metadata": {},
   "outputs": [],
   "source": []
  },
  {
   "cell_type": "code",
   "execution_count": null,
   "metadata": {},
   "outputs": [],
   "source": []
  }
 ],
 "metadata": {
  "kernelspec": {
   "display_name": "Python 3",
   "language": "python",
   "name": "python3"
  },
  "language_info": {
   "codemirror_mode": {
    "name": "ipython",
    "version": 3
   },
   "file_extension": ".py",
   "mimetype": "text/x-python",
   "name": "python",
   "nbconvert_exporter": "python",
   "pygments_lexer": "ipython3",
   "version": "3.7.1"
  }
 },
 "nbformat": 4,
 "nbformat_minor": 2
}
